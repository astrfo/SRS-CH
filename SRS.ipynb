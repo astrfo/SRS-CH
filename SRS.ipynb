{
  "nbformat": 4,
  "nbformat_minor": 0,
  "metadata": {
    "colab": {
      "name": "SRS.ipynb",
      "provenance": [],
      "collapsed_sections": [],
      "authorship_tag": "ABX9TyPKGZFPtBqH4cjFLxl33j2m",
      "include_colab_link": true
    },
    "kernelspec": {
      "display_name": "Python 3",
      "name": "python3"
    },
    "language_info": {
      "name": "python"
    }
  },
  "cells": [
    {
      "cell_type": "markdown",
      "metadata": {
        "id": "view-in-github",
        "colab_type": "text"
      },
      "source": [
        "<a href=\"https://colab.research.google.com/github/astrfo/SRS-CH/blob/main/SRS.ipynb\" target=\"_parent\"><img src=\"https://colab.research.google.com/assets/colab-badge.svg\" alt=\"Open In Colab\"/></a>"
      ]
    },
    {
      "cell_type": "markdown",
      "metadata": {
        "id": "R3JxaIZcWn5q"
      },
      "source": [
        "# SRS-CH 実装\n",
        "\n",
        "[満足化方策における非満足均衡を用いた確率的方策の検証] \\\\\n",
        "https://www.jstage.jst.go.jp/article/pjsai/JSAI2021/0/JSAI2021_1G2GS2a04/_article/-char/ja/\n",
        "\n",
        "\n",
        "[論文要約] \\\\\n",
        "https://colab.research.google.com/drive/1PGbrYECAT7JiiOF_Zu0Sg8CzqjPTJE87#scrollTo=iaPmWlGNgFbd\n",
        "\n",
        "\n"
      ]
    },
    {
      "cell_type": "code",
      "metadata": {
        "id": "v_xANSNHO5YD"
      },
      "source": [
        "import numpy as np\n",
        "import random\n",
        "import matplotlib.pyplot as plt\n",
        "import time\n",
        "%matplotlib inline"
      ],
      "execution_count": 452,
      "outputs": []
    },
    {
      "cell_type": "code",
      "metadata": {
        "id": "guDY-K_7O_cO"
      },
      "source": [
        "class Environment(object):\n",
        "    \"\"\"\n",
        "    K本の各腕の確率を生成\n",
        "    当たりかハズレかを返す\n",
        "    \"\"\"\n",
        "\n",
        "    def __init__(self, K):\n",
        "        self._K = K\n",
        "        self.prob = np.random.rand(self._K)\n",
        "        # print(f'prob: {self.prob}')\n",
        "\n",
        "    def init_prob(self):            # 2,000step毎に確率を入れ替える\n",
        "        self.prob = np.random.rand(self._K)\n",
        "\n",
        "    def play(self, arm):\n",
        "        if self.prob[arm] > np.random.rand():\n",
        "            return 1\n",
        "        else:\n",
        "            return 0"
      ],
      "execution_count": 453,
      "outputs": []
    },
    {
      "cell_type": "code",
      "metadata": {
        "id": "sIV1S9qREoRC"
      },
      "source": [
        "class TS(object):\n",
        "    \"\"\"\n",
        "    Thompson Sampling\n",
        "    \"\"\"\n",
        "\n",
        "    def __init__(self, K):\n",
        "        self._K = K\n",
        "        self._S = None      # Success\n",
        "        self._F = None      # Failure\n",
        "\n",
        "    def initialize(self):\n",
        "        self._S = np.ones(self._K)\n",
        "        self._F = np.ones(self._K)\n",
        "\n",
        "    def select_arm(self):\n",
        "        theta = np.array([np.random.beta(self._S[i], self._F[i]) for i in range(self._K)])\n",
        "        arm = np.random.choice(np.where(theta == theta.max())[0])\n",
        "        return arm\n",
        "\n",
        "    def update(self, arm, reward):\n",
        "        if reward == 1:\n",
        "            self._S[arm] += 1\n",
        "        else:\n",
        "            self._F[arm] += 1"
      ],
      "execution_count": 454,
      "outputs": []
    },
    {
      "cell_type": "code",
      "metadata": {
        "id": "Nl1iLEfZHuCe"
      },
      "source": [
        "class RS_CH(object):\n",
        "    \"\"\"\n",
        "    RS-CH\n",
        "    \"\"\"\n",
        "\n",
        "    def __init__(self, K):\n",
        "        self._K = K\n",
        "        self._alpha = None\n",
        "        self._V = None\n",
        "        self._n = None\n",
        "        self._N = None\n",
        "        self._aleph = None\n",
        "        self._RS = None\n",
        "\n",
        "    def initialize(self):\n",
        "        self._V = np.array([0.5] * self._K)\n",
        "        self._n = np.array([1e-8] * self._K)\n",
        "        self._N = np.sum(self._n)\n",
        "        self._aleph = np.zeros(self._K)\n",
        "        self._RS = (self._n / (self._N)) * (self._V - self._aleph)\n",
        "\n",
        "    def select_arm(self):\n",
        "        G = random.choice(np.where(self._V == self._V.max())[0])\n",
        "        RSG = (self._n[G] / (self._N)) * (self._V[G] - self._aleph)\n",
        "        mu = np.exp(-self._n * self.D_KL(self._V, self._V[G]))\n",
        "        mu[G] = 0.0\n",
        "        self._aleph = self._V[G] * (1 - (self._V/self._V[G]) * mu) / (1 - mu)\n",
        "        np.nan_to_num(self._aleph, copy=False, nan=0)\n",
        "        exceed_RSG_index = np.where(RSG <= self._RS)[0]\n",
        "\n",
        "        if len(exceed_RSG_index) == 1:\n",
        "            arm = G\n",
        "        else:\n",
        "            if len(np.where(RSG < self._RS)[0]) == 1:\n",
        "                arm = np.where(RSG < self._RS)[0][0]\n",
        "            else:\n",
        "                exceed_mu = mu[exceed_RSG_index]\n",
        "                max_mu_index = np.where(exceed_mu.max() == exceed_mu)[0]\n",
        "                if len(max_mu_index) == 1:\n",
        "                    arm = exceed_RSG_index[max_mu_index[0]]\n",
        "                else:\n",
        "                    exceed_aleph = self._aleph[max_mu_index]\n",
        "                    max_aleph_index = np.where(exceed_aleph.max() == exceed_aleph)[0]\n",
        "                    if len(max_aleph_index) == 1:\n",
        "                        arm = exceed_RSG_index[max_mu_index[max_aleph_index[0]]]\n",
        "                    else:\n",
        "                        arm = np.random.choice(exceed_RSG_index[max_mu_index[max_aleph_index]])\n",
        "        return arm\n",
        "\n",
        "    def D_KL(self, p, q):\n",
        "        return p*np.log(p/q) + (1-p)*np.log( (1-p) / (1-q) )\n",
        "\n",
        "    def update(self, arm, reward):\n",
        "        self._alpha = 1 / (1 + self._n[arm])\n",
        "        self._V[arm] = (1 - self._alpha) * self._V[arm] + (reward * self._alpha)\n",
        "        self._n[arm] += 1\n",
        "        self._N += 1\n",
        "        self._RS = (self._n / (self._N)) * (self._V - self._aleph)"
      ],
      "execution_count": 455,
      "outputs": []
    },
    {
      "cell_type": "code",
      "metadata": {
        "id": "t2V48kD3EIkz"
      },
      "source": [
        "class RS_OPT(object):\n",
        "    \"\"\"\n",
        "    RS-OPT\n",
        "    \"\"\"\n",
        "\n",
        "    def __init__(self, K):\n",
        "        self._K = K\n",
        "        self._alpha = None\n",
        "        self._V = None\n",
        "        self._n = None\n",
        "        self._N = None\n",
        "        self.aleph = None\n",
        "        self._RS = None\n",
        "\n",
        "    def initialize(self):\n",
        "        self._V = np.array([0.5] * self._K)\n",
        "        self._n = np.array([1e-8] * self._K)\n",
        "        self._N = np.sum(self._n)\n",
        "        self._RS = (self._n / (self._N)) * (self._V - self.aleph)\n",
        "\n",
        "    def select_arm(self):\n",
        "        arm = np.random.choice(np.where(self._RS == self._RS.max())[0])\n",
        "        return arm\n",
        "\n",
        "    def update(self, arm, reward):\n",
        "        self._alpha = 1 / (1 + self._n[arm])\n",
        "        self._V[arm] = (1 - self._alpha) * self._V[arm] + (reward * self._alpha)\n",
        "        self._n[arm] += 1\n",
        "        self._N += 1\n",
        "        self._RS = (self._n / (self._N)) * (self._V - self.aleph)"
      ],
      "execution_count": 456,
      "outputs": []
    },
    {
      "cell_type": "code",
      "metadata": {
        "id": "LAqBrg_hzHP4"
      },
      "source": [
        "class RS(object):\n",
        "    \"\"\"\n",
        "    RS (aleph=p1)\n",
        "    \"\"\"\n",
        "\n",
        "    def __init__(self, K):\n",
        "        self._K = K\n",
        "        self._alpha = None\n",
        "        self._V = None\n",
        "        self._n = None\n",
        "        self._N = None\n",
        "        self.aleph = None\n",
        "        self._RS = None\n",
        "\n",
        "    def initialize(self):\n",
        "        self._V = np.array([0.5] * self._K)\n",
        "        self._n = np.array([1e-8] * self._K)\n",
        "        self._N = np.sum(self._n)\n",
        "        self._RS = (self._n / (self._N)) * (self._V - self.aleph)\n",
        "\n",
        "    def select_arm(self):\n",
        "        arm = np.random.choice(np.where(self._RS == self._RS.max())[0])\n",
        "        return arm\n",
        "\n",
        "    def update(self, arm, reward):\n",
        "        self._alpha = 1 / (1 + self._n[arm])\n",
        "        self._V[arm] = (1 - self._alpha) * self._V[arm] + (reward * self._alpha)\n",
        "        self._n[arm] += 1\n",
        "        self._N += 1\n",
        "        self._RS = (self._n / (self._N)) * (self._V - self.aleph)"
      ],
      "execution_count": 457,
      "outputs": []
    },
    {
      "cell_type": "code",
      "source": [
        "class SRS(object):\n",
        "    \"\"\"\n",
        "    SRS (aleph=p1)\n",
        "    \"\"\"\n",
        "\n",
        "    def __init__(self, K):\n",
        "        self._K = K\n",
        "        self._alpha = None\n",
        "        self._V = None\n",
        "        self._n = None\n",
        "        self._N = None\n",
        "        self.aleph = None\n",
        "        self._RS = None\n",
        "        self._rho = None\n",
        "        self._Z = None\n",
        "        self._b = None\n",
        "        self._SRS = None\n",
        "        self._pi = None\n",
        "\n",
        "    def initialize(self):\n",
        "        self._V = np.array([0.5] * self._K)\n",
        "        self._n = np.array([1e-8] * self._K)\n",
        "        self._N = np.sum(self._n)\n",
        "        self._RS = (self._n / (self._N)) * (self._V - self.aleph)\n",
        "\n",
        "        self._Z = 1 / (np.sum(1 / (self.aleph - self._V)))\n",
        "        self._rho = self._Z / (self.aleph - self._V)\n",
        "        self._b = self._n / self._rho - self._N + 100\n",
        "        self._SRS = (self._N + self._b) * self._rho - self._n\n",
        "        self._pi = self._SRS / np.sum(self._SRS)\n",
        "\n",
        "    def select_arm(self):\n",
        "        if all(self._V < self.aleph): arm = np.random.choice(len(self._pi), p=self._pi)\n",
        "        else: arm = np.random.choice(np.where(self._RS == self._RS.max())[0])\n",
        "        return arm\n",
        "\n",
        "    def update(self, arm, reward):\n",
        "        self._alpha = 1 / (1 + self._n[arm])\n",
        "        self._V[arm] = (1 - self._alpha) * self._V[arm] + (reward * self._alpha)\n",
        "        self._n[arm] += 1\n",
        "        self._N += 1\n",
        "        self._RS = (self._n / (self._N)) * (self._V - self.aleph)\n",
        "\n",
        "        self._Z = 1 / (np.sum(1 / (self.aleph - self._V)))\n",
        "        self._rho = self._Z / (self.aleph - self._V)\n",
        "        self._b = self._n / self._rho - self._N + 100\n",
        "        self._SRS = (self._N + self._b) * self._rho - self._n\n",
        "        self._pi = self._SRS / np.sum(self._SRS)\n",
        "        # print(f'aleph: {self.aleph}')\n",
        "        # print(f'Z: {self._Z}')\n",
        "        # print(f'rho: {self._rho}')\n",
        "        # print(f'b: {self._b}')\n",
        "        # print(f'SRS: {self._SRS}')\n",
        "        # print(f'pi: {self._pi}')\n",
        "        # print()"
      ],
      "metadata": {
        "id": "3DiRYxX-ntSC"
      },
      "execution_count": 458,
      "outputs": []
    },
    {
      "cell_type": "code",
      "metadata": {
        "id": "KIZhZYcUllNa"
      },
      "source": [
        "class Simulator(object):\n",
        "    \"\"\"\n",
        "    シミュレーションを行う\n",
        "    regretの計算\n",
        "    regret,stepsをplot\n",
        "    \"\"\"\n",
        "    \n",
        "    def __init__(self, trial, step, K):\n",
        "        # self._policy = {TS(K): 'TS', RS(K): 'RS', RS_OPT(K): 'RS-OPT'}\n",
        "        # self._policy_plot_name = ['Thompson Sampling', 'RS($ℵ=p_1$)', 'RS-OPT']\n",
        "        self._policy = {SRS(K): 'SRS'}\n",
        "        self._policy_plot_name = ['SRS($ℵ=p_1$)']\n",
        "        self._trial = trial\n",
        "        self._step = step\n",
        "        self._K = K\n",
        "        self._env = None\n",
        "        self._regret = np.zeros(step)\n",
        "        self._regretV = None\n",
        "        self.fig, self.ax = plt.subplots()\n",
        "\n",
        "    def run(self):\n",
        "        for policy, name in self._policy.items():\n",
        "            start = time.time()\n",
        "            for t in range(self._trial):\n",
        "                self._env = Environment(self._K)\n",
        "                self._prob = self._env.prob\n",
        "                if name == 'RS-OPT': policy.aleph = sum(sorted(self._prob, reverse=True)[:2]) / 2       # RS-OPT の aleph\n",
        "                elif name == 'RS': policy.aleph = self._prob.max()                                        # RS の aleph\n",
        "                elif name == 'SRS': policy.aleph = self._prob.max()                                       # SRS の aleph\n",
        "                policy.initialize()\n",
        "                self._regretV = 0.0\n",
        "                for s in range(self._step):\n",
        "                    arm = policy.select_arm()\n",
        "                    reward = self._env.play(arm)\n",
        "                    policy.update(arm, reward)\n",
        "                    self.calc_regret(t, s, arm)\n",
        "                    # if s % 2000 == 0: self._env.init_prob()\n",
        "            end = time.time()\n",
        "            print(f'{name}: {end - start}[sec]')\n",
        "            self.print_regret()\n",
        "        self.fig.tight_layout()\n",
        "        plt.show()\n",
        "\n",
        "    def calc_regret(self, t, s, arm):\n",
        "        self._regretV += (self._prob.max() - self._prob[arm])\n",
        "        self._regret[s] += (self._regretV - self._regret[s]) / (t+1)\n",
        "\n",
        "    def print_regret(self):\n",
        "        self.ax.plot(np.arange(self._step), self._regret)\n",
        "        self.ax.set_title(f'sim: {self._trial}, step: {self._step}, K: {self._K}')\n",
        "        self.ax.set_xlabel(\"steps\")\n",
        "        self.ax.set_ylabel(\"regret\")\n",
        "        self.ax.legend(labels=self._policy_plot_name)"
      ],
      "execution_count": 459,
      "outputs": []
    },
    {
      "cell_type": "code",
      "metadata": {
        "id": "dKE34olTSZ-n",
        "colab": {
          "base_uri": "https://localhost:8080/",
          "height": 332
        },
        "outputId": "db6d3b3c-abee-47b9-bca4-8d628ad437b5"
      },
      "source": [
        "def main():\n",
        "    trial = 50\n",
        "    step = 100000\n",
        "    K = 20\n",
        "    sim = Simulator(trial, step, K)\n",
        "    sim.run()\n",
        "\n",
        "start = time.time()\n",
        "main()\n",
        "end = time.time()\n",
        "print(f'All: {end - start}[sec]')"
      ],
      "execution_count": 460,
      "outputs": [
        {
          "output_type": "stream",
          "name": "stdout",
          "text": [
            "SRS: 516.0773584842682[sec]\n"
          ]
        },
        {
          "output_type": "display_data",
          "data": {
            "image/png": "[encoded data removed]",
            "text/plain": [
              "<Figure size 432x288 with 1 Axes>"
            ]
          },
          "metadata": {
            "needs_background": "light"
          }
        },
        {
          "output_type": "stream",
          "name": "stdout",
          "text": [
            "All: 516.4730081558228[sec]\n"
          ]
        }
      ]
    }
  ]
}