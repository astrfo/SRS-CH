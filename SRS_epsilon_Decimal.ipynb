{
  "cells": [
    {
      "cell_type": "markdown",
      "metadata": {
        "id": "view-in-github",
        "colab_type": "text"
      },
      "source": [
        "<a href=\"https://colab.research.google.com/github/astrfo/SRS-CH/blob/main/SRS_epsilon_Decimal.ipynb\" target=\"_parent\"><img src=\"https://colab.research.google.com/assets/colab-badge.svg\" alt=\"Open In Colab\"/></a>"
      ]
    },
    {
      "cell_type": "markdown",
      "metadata": {
        "id": "R3JxaIZcWn5q"
      },
      "source": [
        "# SRS-CH (ε 検証, Decimal 型)\n",
        "\n",
        "[満足化方策における非満足均衡を用いた確率的方策の検証] \\\\\n",
        "https://www.jstage.jst.go.jp/article/pjsai/JSAI2021/0/JSAI2021_1G2GS2a04/_article/-char/ja/\n",
        "\n",
        "\n",
        "[論文要約] \\\\\n",
        "https://colab.research.google.com/drive/1PGbrYECAT7JiiOF_Zu0Sg8CzqjPTJE87#scrollTo=iaPmWlGNgFbd\n",
        "\n",
        "\n"
      ]
    },
    {
      "cell_type": "code",
      "execution_count": null,
      "metadata": {
        "id": "v_xANSNHO5YD"
      },
      "outputs": [],
      "source": [
        "import numpy as np\n",
        "import random\n",
        "import matplotlib.pyplot as plt\n",
        "import copy\n",
        "import time\n",
        "from decimal import Decimal, getcontext, FloatOperation, InvalidOperation, DivisionByZero\n",
        "\n",
        "getcontext().traps[FloatOperation] = True\n",
        "getcontext().traps[InvalidOperation] = False \n",
        "getcontext().traps[DivisionByZero] = False\n",
        "\n",
        "%matplotlib inline"
      ]
    },
    {
      "cell_type": "code",
      "execution_count": null,
      "metadata": {
        "id": "guDY-K_7O_cO"
      },
      "outputs": [],
      "source": [
        "class Environment(object):\n",
        "    \"\"\"\n",
        "    K本の各腕の確率を生成\n",
        "    当たりかハズレかを返す\n",
        "    \"\"\"\n",
        "\n",
        "    def __init__(self, K):\n",
        "        self._K = K\n",
        "        self.prob = np.array([Decimal(f'{np.random.rand()}') for _ in range(self._K)])\n",
        "\n",
        "    def play(self, arm):\n",
        "        if self.prob[arm] > Decimal(f'{np.random.rand()}'):\n",
        "            return 1\n",
        "        else:\n",
        "            return 0"
      ]
    },
    {
      "cell_type": "code",
      "execution_count": null,
      "metadata": {
        "id": "99V9mUSZMuMA"
      },
      "outputs": [],
      "source": [
        "class SRS_OPT1(object):\n",
        "    \"\"\"\n",
        "    SRS-OPT\n",
        "    \"\"\"\n",
        "\n",
        "    def __init__(self, K):\n",
        "        self._epsilon = Decimal('1e-5')\n",
        "        self._K = K\n",
        "        self._alpha = None\n",
        "        self._V = None\n",
        "        self._n = None\n",
        "        self._N = None\n",
        "        self.aleph = None\n",
        "        self._rho = None\n",
        "        self._Z = None\n",
        "        self._b = None\n",
        "        self._SRS = None\n",
        "        self._pi = None\n",
        "\n",
        "    def initialize(self):\n",
        "        self._V = np.array([Decimal('0.5')] * self._K)\n",
        "        cpV = copy.deepcopy(self._V)\n",
        "        if self._V.max() > self.aleph: cpV -= cpV.max() - self.aleph + self._epsilon\n",
        "        self._n = np.array([self._epsilon] * self._K)\n",
        "        self._N = np.sum(self._n)\n",
        "        self._Z = 1 / (np.sum(1 / (self.aleph - cpV)))\n",
        "        self._rho = self._Z / (self.aleph - cpV)\n",
        "        self._b = self._n / self._rho - self._N + self._epsilon\n",
        "        self._SRS = (self._N + self._b.max()) * self._rho - self._n\n",
        "        self._pi = self._SRS / np.sum(self._SRS)\n",
        "\n",
        "    def select_arm(self):\n",
        "        current_prob = Decimal(f'{np.random.rand()}')\n",
        "        for i in range(self._K):\n",
        "            if current_prob > Decimal(f'{np.sum(self._pi[0:i+1])}'):\n",
        "                continue\n",
        "            else:\n",
        "                return i\n",
        "\n",
        "    def update(self, arm, reward):\n",
        "        self._alpha = 1 / (1 + self._n[arm])\n",
        "        self._V[arm] = (1 - self._alpha) * self._V[arm] + (reward * self._alpha)\n",
        "        cpV = copy.deepcopy(self._V)\n",
        "        if self._V.max() > self.aleph: cpV -= cpV.max() - self.aleph + self._epsilon\n",
        "        self._n[arm] += 1\n",
        "        self._N += 1\n",
        "        self._Z = 1 / (np.sum(1 / (self.aleph - cpV)))\n",
        "        self._rho = self._Z / (self.aleph - cpV)\n",
        "        self._b = self._n / self._rho - self._N + self._epsilon\n",
        "        self._SRS = (self._N + self._b.max()) * self._rho - self._n\n",
        "        self._pi = self._SRS / np.sum(self._SRS)"
      ]
    },
    {
      "cell_type": "code",
      "execution_count": null,
      "metadata": {
        "id": "Q7gIOlW4yJlp"
      },
      "outputs": [],
      "source": [
        "class SRS_OPT2(object):\n",
        "    \"\"\"\n",
        "    SRS-OPT\n",
        "    \"\"\"\n",
        "\n",
        "    def __init__(self, K):\n",
        "        self._epsilon = Decimal('1e-6')\n",
        "        self._K = K\n",
        "        self._alpha = None\n",
        "        self._V = None\n",
        "        self._n = None\n",
        "        self._N = None\n",
        "        self.aleph = None\n",
        "        self._rho = None\n",
        "        self._Z = None\n",
        "        self._b = None\n",
        "        self._SRS = None\n",
        "        self._pi = None\n",
        "\n",
        "    def initialize(self):\n",
        "        self._V = np.array([Decimal('0.5')] * self._K)\n",
        "        cpV = copy.deepcopy(self._V)\n",
        "        if self._V.max() > self.aleph: cpV -= cpV.max() - self.aleph + self._epsilon\n",
        "        self._n = np.array([self._epsilon] * self._K)\n",
        "        self._N = np.sum(self._n)\n",
        "        self._Z = 1 / (np.sum(1 / (self.aleph - cpV)))\n",
        "        self._rho = self._Z / (self.aleph - cpV)\n",
        "        self._b = self._n / self._rho - self._N + self._epsilon\n",
        "        self._SRS = (self._N + self._b.max()) * self._rho - self._n\n",
        "        self._pi = self._SRS / np.sum(self._SRS)\n",
        "\n",
        "    def select_arm(self):\n",
        "        current_prob = Decimal(f'{np.random.rand()}')\n",
        "        for i in range(self._K):\n",
        "            if current_prob > Decimal(f'{np.sum(self._pi[0:i+1])}'):\n",
        "                continue\n",
        "            else:\n",
        "                return i\n",
        "\n",
        "    def update(self, arm, reward):\n",
        "        self._alpha = 1 / (1 + self._n[arm])\n",
        "        self._V[arm] = (1 - self._alpha) * self._V[arm] + (reward * self._alpha)\n",
        "        cpV = copy.deepcopy(self._V)\n",
        "        if self._V.max() > self.aleph: cpV -= cpV.max() - self.aleph + self._epsilon\n",
        "        self._n[arm] += 1\n",
        "        self._N += 1\n",
        "        self._Z = 1 / (np.sum(1 / (self.aleph - cpV)))\n",
        "        self._rho = self._Z / (self.aleph - cpV)\n",
        "        self._b = self._n / self._rho - self._N + self._epsilon\n",
        "        self._SRS = (self._N + self._b.max()) * self._rho - self._n\n",
        "        self._pi = self._SRS / np.sum(self._SRS)"
      ]
    },
    {
      "cell_type": "code",
      "execution_count": null,
      "metadata": {
        "id": "KIZhZYcUllNa"
      },
      "outputs": [],
      "source": [
        "class Simulator(object):\n",
        "    \"\"\"\n",
        "    シミュレーションを行う\n",
        "    regretの計算\n",
        "    regret,stepsをplot\n",
        "    \"\"\"\n",
        "    \n",
        "    def __init__(self, trial, step, K):\n",
        "        self._policy = {SRS_OPT1(K): 'SRS-OPT', SRS_OPT2(K): 'SRS-OPT'}\n",
        "        self._policy_plot_name = ['SRS-OPT(ε=1e-5)', 'SRS-OPT(ε=1e-6)']\n",
        "        \n",
        "        self._trial = trial\n",
        "        self._step = step\n",
        "        self._K = K\n",
        "        self._env = None\n",
        "        self._regret = np.array([Decimal('0.0')] * self._step)\n",
        "        self._regretV = None\n",
        "        self.fig, self.ax = plt.subplots()\n",
        "\n",
        "    def run(self):\n",
        "        for policy, name in self._policy.items():\n",
        "            start = time.time()\n",
        "            for t in range(self._trial):\n",
        "                self._env = Environment(self._K)\n",
        "                self._prob = self._env.prob\n",
        "                if name == 'RS' or name == 'SRS': policy.aleph = self._prob.max()\n",
        "                elif name == 'RS-OPT' or name == 'SRS-OPT': policy.aleph = sum(sorted(self._prob, reverse=True)[:2]) / 2\n",
        "                policy.initialize()\n",
        "                self._regretV = Decimal('0.0')\n",
        "                for s in range(self._step):\n",
        "                    arm = policy.select_arm()\n",
        "                    reward = self._env.play(arm)\n",
        "                    policy.update(arm, reward)\n",
        "                    self.calc_regret(t, s, arm)\n",
        "            elapsed_time = time.time() - start\n",
        "            print(f'{name}: {elapsed_time}[sec]')\n",
        "            self.print_regret()\n",
        "            plt.savefig('epsilon_decimal.png')\n",
        "        self.fig.tight_layout()\n",
        "        plt.show()\n",
        "\n",
        "    def calc_regret(self, t, s, arm):\n",
        "        self._regretV += (self._prob.max() - self._prob[arm])\n",
        "        self._regret[s] += (self._regretV - self._regret[s]) / (t+1)\n",
        "\n",
        "    def print_regret(self):\n",
        "        self.ax.plot(np.arange(self._step), self._regret)\n",
        "        self.ax.set_title(f'sim: {self._trial}, step: {self._step}, K: {self._K}')\n",
        "        self.ax.set_xlabel(\"steps\")\n",
        "        self.ax.set_ylabel(\"regret\")\n",
        "        self.ax.legend(labels=self._policy_plot_name, loc=\"upper left\")"
      ]
    },
    {
      "cell_type": "code",
      "execution_count": null,
      "metadata": {
        "colab": {
          "base_uri": "https://localhost:8080/",
          "height": 332
        },
        "id": "dKE34olTSZ-n",
        "outputId": "d568f819-0d34-46a5-cd47-98ab4b7dc926"
      },
      "outputs": [
        {
          "output_type": "stream",
          "name": "stdout",
          "text": [
            "SRS-OPT: 3.683136463165283[sec]\n",
            "SRS-OPT: 5.876980543136597[sec]\n"
          ]
        },
        {
          "output_type": "display_data",
          "data": {
            "image/png": "[encoded data removed]",
            "text/plain": [
              "<Figure size 432x288 with 1 Axes>"
            ]
          },
          "metadata": {
            "needs_background": "light"
          }
        }
      ],
      "source": [
        "def main():\n",
        "    trial = 100\n",
        "    step = 100\n",
        "    K = 20\n",
        "    sim = Simulator(trial, step, K)\n",
        "    sim.run()\n",
        "\n",
        "main()"
      ]
    }
  ],
  "metadata": {
    "colab": {
      "collapsed_sections": [],
      "name": "SRS_epsilon_Decimal.ipynb",
      "provenance": [],
      "include_colab_link": true
    },
    "kernelspec": {
      "display_name": "Python 3",
      "language": "python",
      "name": "python3"
    },
    "language_info": {
      "codemirror_mode": {
        "name": "ipython",
        "version": 3
      },
      "file_extension": ".py",
      "mimetype": "text/x-python",
      "name": "python",
      "nbconvert_exporter": "python",
      "pygments_lexer": "ipython3",
      "version": "3.8.8"
    }
  },
  "nbformat": 4,
  "nbformat_minor": 0
}